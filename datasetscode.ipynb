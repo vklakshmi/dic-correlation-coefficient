{
 "cells": [
  {
   "cell_type": "code",
   "execution_count": 3,
   "metadata": {},
   "outputs": [
    {
     "name": "stdout",
     "output_type": "stream",
     "text": [
      "Spearman correlation: -0.734\n",
      "Pearsons correlation: -0.709\n"
     ]
    }
   ],
   "source": [
    "from sklearn.datasets import load_breast_cancer\n",
    "from scipy.stats import spearmanr\n",
    "from scipy.stats import pearsonr\n",
    "data=load_breast_cancer()\n",
    "data1=data.data[:,3]\n",
    "data2=data.target\n",
    "corr,_=spearmanr(data1,data2)\n",
    "print ('Spearman correlation: %.3f' % corr)\n",
    "corr,_=pearsonr(data1,data2)\n",
    "print ('Pearsons correlation: %.3f' % corr)"
   ]
  },
  {
   "cell_type": "code",
   "execution_count": 4,
   "metadata": {},
   "outputs": [
    {
     "name": "stdout",
     "output_type": "stream",
     "text": [
      "Spearman correlation: 0.416\n",
      "Pearsons correlation: 0.441\n"
     ]
    }
   ],
   "source": [
    "from sklearn.datasets import load_diabetes\n",
    "from scipy.stats import spearmanr\n",
    "from scipy.stats import pearsonr\n",
    "data=load_diabetes()\n",
    "data1=data.data[:,3]\n",
    "data2=data.target\n",
    "corr,_=spearmanr(data1,data2)\n",
    "print ('Spearman correlation: %.3f' % corr)\n",
    "corr,_=pearsonr(data1,data2)\n",
    "print ('Pearsons correlation: %.3f' % corr)"
   ]
  },
  {
   "cell_type": "code",
   "execution_count": 8,
   "metadata": {},
   "outputs": [
    {
     "name": "stdout",
     "output_type": "stream",
     "text": [
      "Spearman correlation: 0.570\n",
      "Pearsons correlation: 0.518\n"
     ]
    }
   ],
   "source": [
    "from sklearn.datasets import load_wine\n",
    "from scipy.stats import spearmanr\n",
    "from scipy.stats import pearsonr\n",
    "data=load_wine()\n",
    "data1=data.data[:,3]\n",
    "data2=data.target\n",
    "corr,_=spearmanr(data1,data2)\n",
    "print ('Spearman correlation: %.3f' % corr)\n",
    "corr,_=pearsonr(data1,data2)\n",
    "print ('Pearsons correlation: %.3f' % corr)"
   ]
  },
  {
   "cell_type": "code",
   "execution_count": null,
   "metadata": {},
   "outputs": [],
   "source": []
  }
 ],
 "metadata": {
  "kernelspec": {
   "display_name": "Python 2",
   "language": "python",
   "name": "python2"
  },
  "language_info": {
   "codemirror_mode": {
    "name": "ipython",
    "version": 2
   },
   "file_extension": ".py",
   "mimetype": "text/x-python",
   "name": "python",
   "nbconvert_exporter": "python",
   "pygments_lexer": "ipython2",
   "version": "2.7.16"
  }
 },
 "nbformat": 4,
 "nbformat_minor": 2
}
