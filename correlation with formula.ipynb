{
 "cells": [
  {
   "cell_type": "code",
   "execution_count": 1,
   "metadata": {},
   "outputs": [
    {
     "name": "stdout",
     "output_type": "stream",
     "text": [
      "Predicting_mental_ability\n",
      "('Correlation is ', -0.5973301212527224)\n"
     ]
    }
   ],
   "source": [
    "import math\n",
    "a=[15,26,10,9,15,20,18,11,8,20]\n",
    "b=[102,78,90,98,109,94,100,107,111,101]\n",
    "def mean(x):\n",
    "    sum = 0.0\n",
    "    for i in x:\n",
    "         sum += i\n",
    "    return sum / len(x) \n",
    "    \n",
    "def sampleStandardDeviation(x):\n",
    "    sumv = 0.0\n",
    "    for i in x:\n",
    "         sumv += (i - mean(x))**2\n",
    "    return math.sqrt(sumv/(len(x)-1))\n",
    "\n",
    "def pearson_def(x, y):\n",
    "    scorex = []\n",
    "    scorey = []\n",
    "    for i in x: \n",
    "        scorex.append((i - mean(x))/sampleStandardDeviation(x)) \n",
    "    for j in y:\n",
    "        scorey.append((j - mean(y))/sampleStandardDeviation(y))   \n",
    "    return (sum([i*j for i,j in zip(scorex,scorey)]))/(len(x)-1)\n",
    "print (\"Predicting_mental_ability\")\n",
    "print(\"Correlation is \",pearson_def(a,b))"
   ]
  },
  {
   "cell_type": "code",
   "execution_count": 2,
   "metadata": {},
   "outputs": [
    {
     "name": "stdout",
     "output_type": "stream",
     "text": [
      "TREE STUMPS AND BEETLE LARVAE\n",
      "('Correlation is ', 0.9158498450298386)\n"
     ]
    }
   ],
   "source": [
    "import math\n",
    "a=[2,2,1,3,4,1,5,3,1,2]\n",
    "b=[17,37,19,31,47,18,63,47,15,21]\n",
    "def mean(x):\n",
    "    sum = 0.0\n",
    "    for i in x:\n",
    "         sum += i\n",
    "    return sum / len(x) \n",
    "    \n",
    "def sampleStandardDeviation(x):\n",
    "    sumv = 0.0\n",
    "    for i in x:\n",
    "         sumv += (i - mean(x))**2\n",
    "    return math.sqrt(sumv/(len(x)-1))\n",
    "\n",
    "def correlation_def(x, y):\n",
    "\n",
    "    scorex = []\n",
    "    scorey = []\n",
    "\n",
    "    for i in x: \n",
    "        scorex.append((i - mean(x))/sampleStandardDeviation(x)) \n",
    "\n",
    "    for j in y:\n",
    "        scorey.append((j - mean(y))/sampleStandardDeviation(y))   \n",
    "    return (sum([i*j for i,j in zip(scorex,scorey)]))/(len(x)-1)\n",
    "print (\"TREE STUMPS AND BEETLE LARVAE\")\n",
    "print(\"Correlation is \",correlation_def(a,b))"
   ]
  },
  {
   "cell_type": "code",
   "execution_count": 3,
   "metadata": {},
   "outputs": [
    {
     "name": "stdout",
     "output_type": "stream",
     "text": [
      "SPEED AND GAS MILEAGE\n",
      "('Correlation is ', 0.8260009854911465)\n"
     ]
    }
   ],
   "source": [
    "import math\n",
    "a=[20,30,40,50,60]\n",
    "b=[31,38,51,43,51]\n",
    "\n",
    "def mean(x):\n",
    "    sum = 0.0\n",
    "    for i in x:\n",
    "         sum += i\n",
    "    return sum / len(x) \n",
    "    \n",
    "def sampleStandardDeviation(x):\n",
    "    sumv = 0.0\n",
    "    for i in x:\n",
    "         sumv += (i - mean(x))**2\n",
    "    return math.sqrt(sumv/(len(x)-1))\n",
    "\n",
    "def correlation_def(x, y):\n",
    "\n",
    "    scorex = []\n",
    "    scorey = []\n",
    "\n",
    "    for i in x: \n",
    "        scorex.append((i - mean(x))/sampleStandardDeviation(x)) \n",
    "\n",
    "    for j in y:\n",
    "        scorey.append((j - mean(y))/sampleStandardDeviation(y))   \n",
    "    return (sum([i*j for i,j in zip(scorex,scorey)]))/(len(x)-1)\n",
    "print (\"SPEED AND GAS MILEAGE\")\n",
    "print(\"Correlation is \",correlation_def(a,b))"
   ]
  },
  {
   "cell_type": "code",
   "execution_count": null,
   "metadata": {},
   "outputs": [],
   "source": []
  }
 ],
 "metadata": {
  "kernelspec": {
   "display_name": "Python 2",
   "language": "python",
   "name": "python2"
  },
  "language_info": {
   "codemirror_mode": {
    "name": "ipython",
    "version": 2
   },
   "file_extension": ".py",
   "mimetype": "text/x-python",
   "name": "python",
   "nbconvert_exporter": "python",
   "pygments_lexer": "ipython2",
   "version": "2.7.16"
  }
 },
 "nbformat": 4,
 "nbformat_minor": 2
}
