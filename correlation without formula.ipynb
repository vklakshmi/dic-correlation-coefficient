{
 "cells": [
  {
   "cell_type": "code",
   "execution_count": 2,
   "metadata": {},
   "outputs": [
    {
     "name": "stdout",
     "output_type": "stream",
     "text": [
      " DATA\n",
      "   Age  Score\n",
      "0   15    102\n",
      "1   26     78\n",
      "2   10     90\n",
      "3    9     98\n",
      "4   15    109\n",
      "5   20     94\n",
      "6   18    100\n",
      "7   11    107\n",
      "8    8    111\n",
      "9   20    101\n",
      "\n",
      "\n",
      "('CORRELATION:',            Age    Score\n",
      "Age    1.00000 -0.59733\n",
      "Score -0.59733  1.00000)\n",
      "\n",
      "\n",
      "('CORRELATION:',             Age     Score\n",
      "Age    1.000000 -0.451228\n",
      "Score -0.451228  1.000000)\n"
     ]
    }
   ],
   "source": [
    "import pandas as pd\n",
    "data={'Age':[15,26,10,9,15,20,18,11,8,20],'Score':[102,78,90,98,109,94,100,107,111,101]}\n",
    "df=pd.DataFrame(data)\n",
    "print(\" DATA\")\n",
    "print(df)\n",
    "corr=df.corr(method='pearson')\n",
    "corr1=df.corr(method='spearman')\n",
    "print(\"\\n\")\n",
    "print(\"CORRELATION:\",corr)\n",
    "print(\"\\n\")\n",
    "print(\"CORRELATION:\",corr1)"
   ]
  },
  {
   "cell_type": "code",
   "execution_count": 3,
   "metadata": {},
   "outputs": [
    {
     "name": "stdout",
     "output_type": "stream",
     "text": [
      " DATA\n",
      "   BETTLE LARVAE  STUMPS\n",
      "0             17       2\n",
      "1             37       2\n",
      "2             19       1\n",
      "3             31       3\n",
      "4             47       4\n",
      "5             18       1\n",
      "6             63       5\n",
      "7             47       3\n",
      "8             15       1\n",
      "9             21       2\n",
      "\n",
      "\n",
      "('CORRELATION:',                BETTLE LARVAE   STUMPS\n",
      "BETTLE LARVAE        1.00000  0.91585\n",
      "STUMPS               0.91585  1.00000)\n",
      "\n",
      "\n",
      "('CORRELATION:',                BETTLE LARVAE    STUMPS\n",
      "BETTLE LARVAE       1.000000  0.859644\n",
      "STUMPS              0.859644  1.000000)\n"
     ]
    }
   ],
   "source": [
    "\n",
    "import pandas as pd\n",
    "data={'STUMPS':[2,2,1,3,4,1,5,3,1,2],'BETTLE LARVAE':[17,37,19,31,47,18,63,47,15,21]}\n",
    "df=pd.DataFrame(data)\n",
    "print(\" DATA\")\n",
    "print(df)\n",
    "corr=df.corr(method='pearson')\n",
    "corr1=df.corr(method='spearman')\n",
    "print(\"\\n\")\n",
    "print(\"CORRELATION:\",corr)\n",
    "print(\"\\n\")\n",
    "print(\"CORRELATION:\",corr1)"
   ]
  },
  {
   "cell_type": "code",
   "execution_count": 4,
   "metadata": {},
   "outputs": [
    {
     "name": "stdout",
     "output_type": "stream",
     "text": [
      " DATA\n",
      "   MILES  SPEED\n",
      "0     20     31\n",
      "1     30     38\n",
      "2     40     51\n",
      "3     50     43\n",
      "4     60     51\n",
      "\n",
      "\n",
      "('CORRELATION:',           MILES     SPEED\n",
      "MILES  1.000000  0.826001\n",
      "SPEED  0.826001  1.000000)\n",
      "\n",
      "\n",
      "('Correlation:',           MILES     SPEED\n",
      "MILES  1.000000  0.820783\n",
      "SPEED  0.820783  1.000000)\n"
     ]
    }
   ],
   "source": [
    "\n",
    "import pandas as pd\n",
    "data={'MILES':[20,30,40,50,60],'SPEED':[31,38,51,43,51]}\n",
    "df=pd.DataFrame(data)\n",
    "print(\" DATA\")\n",
    "print(df)\n",
    "corr=df.corr(method='pearson')\n",
    "corr1=df.corr(method='spearman')\n",
    "print(\"\\n\")\n",
    "print(\"CORRELATION:\",corr)\n",
    "print(\"\\n\")\n",
    "print(\"Correlation:\",corr1)"
   ]
  },
  {
   "cell_type": "code",
   "execution_count": null,
   "metadata": {},
   "outputs": [],
   "source": []
  }
 ],
 "metadata": {
  "kernelspec": {
   "display_name": "Python 2",
   "language": "python",
   "name": "python2"
  },
  "language_info": {
   "codemirror_mode": {
    "name": "ipython",
    "version": 2
   },
   "file_extension": ".py",
   "mimetype": "text/x-python",
   "name": "python",
   "nbconvert_exporter": "python",
   "pygments_lexer": "ipython2",
   "version": "2.7.16"
  }
 },
 "nbformat": 4,
 "nbformat_minor": 2
}
